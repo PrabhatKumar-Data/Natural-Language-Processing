{
  "nbformat": 4,
  "nbformat_minor": 0,
  "metadata": {
    "colab": {
      "name": "Text_Classification_with_Glove.ipynb",
      "provenance": [],
      "collapsed_sections": [],
      "toc_visible": true
    },
    "kernelspec": {
      "name": "python3",
      "display_name": "Python 3"
    },
    "language_info": {
      "name": "python"
    }
  },
  "cells": [
    {
      "cell_type": "code",
      "metadata": {
        "id": "ahZqQFh5ekbj"
      },
      "source": [
        "data_file=\"/content/spam.csv\"\n",
        "glove_file=\"/content/glove.6B.50d.txt\""
      ],
      "execution_count": null,
      "outputs": []
    },
    {
      "cell_type": "code",
      "metadata": {
        "id": "tokm6M6ifmjf"
      },
      "source": [
        "import numpy as np\n",
        "import pandas as pd\n",
        "from tensorflow.keras.preprocessing.text import Tokenizer\n",
        "from tensorflow.keras.preprocessing.sequence import pad_sequences"
      ],
      "execution_count": null,
      "outputs": []
    },
    {
      "cell_type": "code",
      "metadata": {
        "colab": {
          "base_uri": "https://localhost:8080/"
        },
        "id": "oD0Cx7cbfcgG",
        "outputId": "a1539db3-840c-41bf-863b-17a73605d584"
      },
      "source": [
        "# loading the Glove pretrained model\n",
        "\n",
        "embeddings_index=dict()\n",
        "\n",
        "with open(\"glove.6B.50d.txt\", encoding='utf-8') as f:\n",
        "    for line in f:\n",
        "        values=line.split()\n",
        "        word=values[0]\n",
        "        coefs=np.asarray(values[1:],dtype='float32')\n",
        "        embeddings_index[word]=coefs\n",
        "        \n",
        "print(\"Loaded %s word vectors\"%len(embeddings_index))"
      ],
      "execution_count": null,
      "outputs": [
        {
          "output_type": "stream",
          "text": [
            "Loaded 198917 word vectors\n"
          ],
          "name": "stdout"
        }
      ]
    },
    {
      "cell_type": "code",
      "metadata": {
        "id": "dRNTo3vCfcd7"
      },
      "source": [
        "df=pd.read_csv(data_file,names=['label','text'],encoding='latin-1',skiprows=1,usecols=[0,1])"
      ],
      "execution_count": null,
      "outputs": []
    },
    {
      "cell_type": "code",
      "metadata": {
        "id": "p7WJbL2qfcbw"
      },
      "source": [
        "def remove_nonascii(s):\n",
        "  return \"\".join([i for i in s if ord(i)<128])"
      ],
      "execution_count": null,
      "outputs": []
    },
    {
      "cell_type": "code",
      "metadata": {
        "id": "BwEpVr2XfcZi"
      },
      "source": [
        "df['text']=df['text'].map(lambda x:remove_nonascii(x))"
      ],
      "execution_count": null,
      "outputs": []
    },
    {
      "cell_type": "code",
      "metadata": {
        "id": "s3Diq3sdybYb"
      },
      "source": [
        "df['label']=df['label'].apply(lambda x: 1 if x=='ham' else 0)"
      ],
      "execution_count": null,
      "outputs": []
    },
    {
      "cell_type": "code",
      "metadata": {
        "id": "LsnTiU5BfcXX"
      },
      "source": [
        "docs=df['text'].values\n",
        "labels=df['label'].values"
      ],
      "execution_count": null,
      "outputs": []
    },
    {
      "cell_type": "markdown",
      "metadata": {
        "id": "OX2OKERIjQWJ"
      },
      "source": [
        "## Preprocessing"
      ]
    },
    {
      "cell_type": "code",
      "metadata": {
        "colab": {
          "base_uri": "https://localhost:8080/"
        },
        "id": "1tbPWobBmZ6t",
        "outputId": "aa76af41-e71c-4b4e-dadf-ef3f186d79a8"
      },
      "source": [
        "tokenizer=Tokenizer()\n",
        "tokenizer.fit_on_texts(docs)\n",
        "vocab_size=len(tokenizer.word_index)\n",
        "encoded_docs=tokenizer.texts_to_sequences(docs)\n",
        "\n",
        "#padding sequences\n",
        "padded_sequence=pad_sequences(encoded_docs,maxlen=20,padding='post')   # each sentence to 20 length\n",
        "print(len(encoded_docs))"
      ],
      "execution_count": null,
      "outputs": [
        {
          "output_type": "stream",
          "text": [
            "5572\n"
          ],
          "name": "stdout"
        }
      ]
    },
    {
      "cell_type": "markdown",
      "metadata": {
        "id": "pHzquU4WpLOw"
      },
      "source": [
        "We need only words from glove embeddings which are common in our docs"
      ]
    },
    {
      "cell_type": "code",
      "metadata": {
        "colab": {
          "base_uri": "https://localhost:8080/"
        },
        "id": "SAWeBslSsknZ",
        "outputId": "e6bee94a-b004-45c0-92c6-51eda26c1d19"
      },
      "source": [
        "print(encoded_docs[0:2])\n",
        "print(padded_sequence[0:2])"
      ],
      "execution_count": null,
      "outputs": [
        {
          "output_type": "stream",
          "text": [
            "[[50, 468, 4379, 837, 749, 656, 64, 8, 1314, 89, 120, 350, 1315, 147, 2961, 1316, 67, 58, 4380, 144], [46, 337, 1485, 469, 6, 1915]]\n",
            "[[  50  468 4379  837  749  656   64    8 1314   89  120  350 1315  147\n",
            "  2961 1316   67   58 4380  144]\n",
            " [  46  337 1485  469    6 1915    0    0    0    0    0    0    0    0\n",
            "     0    0    0    0    0    0]]\n"
          ],
          "name": "stdout"
        }
      ]
    },
    {
      "cell_type": "code",
      "metadata": {
        "colab": {
          "base_uri": "https://localhost:8080/"
        },
        "id": "VjGxwejYqPqL",
        "outputId": "14b3c771-05dc-446b-d3c0-552466f8448f"
      },
      "source": [
        "count=0\n",
        "for k,v in tokenizer.word_index.items():\n",
        "  print(k,v)\n",
        "  count=count +1\n",
        "  if count>4:\n",
        "    break"
      ],
      "execution_count": null,
      "outputs": [
        {
          "output_type": "stream",
          "text": [
            "i 1\n",
            "to 2\n",
            "you 3\n",
            "a 4\n",
            "the 5\n"
          ],
          "name": "stdout"
        }
      ]
    },
    {
      "cell_type": "code",
      "metadata": {
        "id": "6RsO8LPAmZyc"
      },
      "source": [
        "# embedding matrix for words which are present in out docs\n",
        "\n",
        "embedding_matrix=np.zeros((vocab_size +1,50))\n",
        "\n",
        "for word,i in tokenizer.word_index.items():\n",
        "  embedding_vector=embeddings_index.get(word)\n",
        "\n",
        "  if embedding_vector is not None:\n",
        "    embedding_matrix[i] =embedding_vector"
      ],
      "execution_count": null,
      "outputs": []
    },
    {
      "cell_type": "code",
      "metadata": {
        "colab": {
          "base_uri": "https://localhost:8080/"
        },
        "id": "81rYdbk2mZwN",
        "outputId": "18aef0dd-e8ef-4f12-bdce-2af5652077b3"
      },
      "source": [
        "print(embedding_matrix.shape)"
      ],
      "execution_count": null,
      "outputs": [
        {
          "output_type": "stream",
          "text": [
            "(8838, 50)\n"
          ],
          "name": "stdout"
        }
      ]
    },
    {
      "cell_type": "code",
      "metadata": {
        "colab": {
          "base_uri": "https://localhost:8080/"
        },
        "id": "o0f4Rqo4uPzm",
        "outputId": "acee7c24-04ab-4107-c296-cc0049fc9f41"
      },
      "source": [
        "# keras network for classification\n",
        "from tensorflow.keras.models import Sequential\n",
        "from tensorflow.keras.layers import Dense,Flatten\n",
        "from tensorflow.keras.layers import Embedding\n",
        "\n",
        "\n",
        "model=Sequential()\n",
        "model.add(Embedding(vocab_size+1,50,weights=[embedding_matrix], input_length=20,trainable=False))\n",
        "model.add(Flatten())\n",
        "model.add(Dense(1,activation='sigmoid'))\n",
        "\n",
        "model.compile(optimizer='rmsprop',loss='binary_crossentropy',metrics=['accuracy'])\n",
        "\n",
        "print(model.summary)"
      ],
      "execution_count": null,
      "outputs": [
        {
          "output_type": "stream",
          "text": [
            "<bound method Model.summary of <tensorflow.python.keras.engine.sequential.Sequential object at 0x7fd9f74732d0>>\n"
          ],
          "name": "stdout"
        }
      ]
    },
    {
      "cell_type": "code",
      "metadata": {
        "id": "40_VXkqHuPxn"
      },
      "source": [
        "# Training and Evaluation\n",
        "from sklearn.model_selection import train_test_split\n",
        "\n",
        "X_train,X_test,y_train,y_test=train_test_split(padded_sequence, labels,test_size=0.3,random_state=43)\n"
      ],
      "execution_count": null,
      "outputs": []
    },
    {
      "cell_type": "code",
      "metadata": {
        "colab": {
          "base_uri": "https://localhost:8080/"
        },
        "id": "M5Stz5OPuPvR",
        "outputId": "81f650ca-5062-4823-a87f-ec7e86bf88df"
      },
      "source": [
        "model.fit(X_train,y_train,epochs=10,verbose=0)"
      ],
      "execution_count": null,
      "outputs": [
        {
          "output_type": "execute_result",
          "data": {
            "text/plain": [
              "<tensorflow.python.keras.callbacks.History at 0x7fd9eb7a57d0>"
            ]
          },
          "metadata": {
            "tags": []
          },
          "execution_count": 52
        }
      ]
    },
    {
      "cell_type": "code",
      "metadata": {
        "colab": {
          "base_uri": "https://localhost:8080/"
        },
        "id": "ykwOZMFTuPtP",
        "outputId": "d0091e26-2230-41cb-eb49-66f14161fe8e"
      },
      "source": [
        "print(model.summary())"
      ],
      "execution_count": null,
      "outputs": [
        {
          "output_type": "stream",
          "text": [
            "Model: \"sequential\"\n",
            "_________________________________________________________________\n",
            "Layer (type)                 Output Shape              Param #   \n",
            "=================================================================\n",
            "embedding (Embedding)        (None, 20, 50)            441900    \n",
            "_________________________________________________________________\n",
            "flatten (Flatten)            (None, 1000)              0         \n",
            "_________________________________________________________________\n",
            "dense (Dense)                (None, 1)                 1001      \n",
            "=================================================================\n",
            "Total params: 442,901\n",
            "Trainable params: 1,001\n",
            "Non-trainable params: 441,900\n",
            "_________________________________________________________________\n",
            "None\n"
          ],
          "name": "stdout"
        }
      ]
    },
    {
      "cell_type": "code",
      "metadata": {
        "colab": {
          "base_uri": "https://localhost:8080/"
        },
        "id": "6YJRQdX6yysl",
        "outputId": "2771a7c0-b1f0-446f-a24f-3482d4d76630"
      },
      "source": [
        "# evaluate \n",
        "loss, accuracy=model.evaluate(X_test,y_test,verbose=0)\n",
        "print(\"Accuracy: %f\"%(accuracy *100))"
      ],
      "execution_count": null,
      "outputs": [
        {
          "output_type": "stream",
          "text": [
            "Accuracy: 95.873207\n"
          ],
          "name": "stdout"
        }
      ]
    },
    {
      "cell_type": "code",
      "metadata": {
        "id": "WUFxZr1myypA"
      },
      "source": [
        ""
      ],
      "execution_count": null,
      "outputs": []
    },
    {
      "cell_type": "code",
      "metadata": {
        "id": "RtQ2VnB6yynB"
      },
      "source": [
        "emb_file='/content/glove.6B.50d.txt'\n",
        "data_file='spam.csv'"
      ],
      "execution_count": null,
      "outputs": []
    },
    {
      "cell_type": "code",
      "metadata": {
        "id": "c9DkTdeyyykt",
        "colab": {
          "base_uri": "https://localhost:8080/"
        },
        "outputId": "3ef0d51c-11bc-4795-e1ca-aaeca47a7a1d"
      },
      "source": [
        "embeddings_index=dict()\n",
        "\n",
        "with open(emb_file,'r',encoding='utf-8') as f:\n",
        "  for line in f:\n",
        "    values=line.split()\n",
        "    word=values[0]\n",
        "    coefs=np.asarray(values[1:],dtype='float32')\n",
        "    embeddings_index[word]=coefs\n",
        "\n",
        "print(\"loaded {} word vectors\".format(len(embeddings_index)))\n"
      ],
      "execution_count": null,
      "outputs": [
        {
          "output_type": "stream",
          "text": [
            "loaded 198917 word vectors\n"
          ],
          "name": "stdout"
        }
      ]
    },
    {
      "cell_type": "code",
      "metadata": {
        "id": "s386SUqVyyil",
        "colab": {
          "base_uri": "https://localhost:8080/"
        },
        "outputId": "1bde03fc-395d-4e27-952d-68b4c7070dbf"
      },
      "source": [
        "data=pd.read_csv(data_file,usecols=[0,1],skiprows=1,encoding='latin-1',names=['label','text'])\n",
        "data.info()"
      ],
      "execution_count": null,
      "outputs": [
        {
          "output_type": "stream",
          "text": [
            "<class 'pandas.core.frame.DataFrame'>\n",
            "RangeIndex: 5572 entries, 0 to 5571\n",
            "Data columns (total 2 columns):\n",
            " #   Column  Non-Null Count  Dtype \n",
            "---  ------  --------------  ----- \n",
            " 0   label   5572 non-null   object\n",
            " 1   text    5572 non-null   object\n",
            "dtypes: object(2)\n",
            "memory usage: 87.2+ KB\n"
          ],
          "name": "stdout"
        }
      ]
    },
    {
      "cell_type": "code",
      "metadata": {
        "colab": {
          "base_uri": "https://localhost:8080/",
          "height": 203
        },
        "id": "3nAN3zZTIECy",
        "outputId": "0386e8b6-88e8-44d1-c29d-e196cc112f5a"
      },
      "source": [
        "data.head()"
      ],
      "execution_count": null,
      "outputs": [
        {
          "output_type": "execute_result",
          "data": {
            "text/html": [
              "<div>\n",
              "<style scoped>\n",
              "    .dataframe tbody tr th:only-of-type {\n",
              "        vertical-align: middle;\n",
              "    }\n",
              "\n",
              "    .dataframe tbody tr th {\n",
              "        vertical-align: top;\n",
              "    }\n",
              "\n",
              "    .dataframe thead th {\n",
              "        text-align: right;\n",
              "    }\n",
              "</style>\n",
              "<table border=\"1\" class=\"dataframe\">\n",
              "  <thead>\n",
              "    <tr style=\"text-align: right;\">\n",
              "      <th></th>\n",
              "      <th>label</th>\n",
              "      <th>text</th>\n",
              "    </tr>\n",
              "  </thead>\n",
              "  <tbody>\n",
              "    <tr>\n",
              "      <th>0</th>\n",
              "      <td>ham</td>\n",
              "      <td>Go until jurong point, crazy.. Available only ...</td>\n",
              "    </tr>\n",
              "    <tr>\n",
              "      <th>1</th>\n",
              "      <td>ham</td>\n",
              "      <td>Ok lar... Joking wif u oni...</td>\n",
              "    </tr>\n",
              "    <tr>\n",
              "      <th>2</th>\n",
              "      <td>spam</td>\n",
              "      <td>Free entry in 2 a wkly comp to win FA Cup fina...</td>\n",
              "    </tr>\n",
              "    <tr>\n",
              "      <th>3</th>\n",
              "      <td>ham</td>\n",
              "      <td>U dun say so early hor... U c already then say...</td>\n",
              "    </tr>\n",
              "    <tr>\n",
              "      <th>4</th>\n",
              "      <td>ham</td>\n",
              "      <td>Nah I don't think he goes to usf, he lives aro...</td>\n",
              "    </tr>\n",
              "  </tbody>\n",
              "</table>\n",
              "</div>"
            ],
            "text/plain": [
              "  label                                               text\n",
              "0   ham  Go until jurong point, crazy.. Available only ...\n",
              "1   ham                      Ok lar... Joking wif u oni...\n",
              "2  spam  Free entry in 2 a wkly comp to win FA Cup fina...\n",
              "3   ham  U dun say so early hor... U c already then say...\n",
              "4   ham  Nah I don't think he goes to usf, he lives aro..."
            ]
          },
          "metadata": {
            "tags": []
          },
          "execution_count": 62
        }
      ]
    },
    {
      "cell_type": "code",
      "metadata": {
        "id": "oXobjlGdID_W"
      },
      "source": [
        "# removing the non ascii characters\n",
        "\n",
        "def remove_nonascii(s):\n",
        "  return \"\".join([c for c in s if ord(c)<128])\n",
        "\n",
        "\n",
        "data['text']=data['text'].map(lambda x:remove_nonascii(x))"
      ],
      "execution_count": null,
      "outputs": []
    },
    {
      "cell_type": "code",
      "metadata": {
        "id": "qQ7F7LZ2JH9w"
      },
      "source": [
        "data['label']=data['label'].map(lambda x : 1 if x=='ham' else 0)"
      ],
      "execution_count": null,
      "outputs": []
    },
    {
      "cell_type": "code",
      "metadata": {
        "id": "BKmXI3gVJZfl"
      },
      "source": [
        "docs=data['text'].values\n",
        "labels=data['label'].values"
      ],
      "execution_count": null,
      "outputs": []
    },
    {
      "cell_type": "code",
      "metadata": {
        "id": "J_h-QVIcID9V"
      },
      "source": [
        "tokenizer=Tokenizer()\n",
        "tokenizer.fit_on_texts(docs)\n",
        "vocab_size=len(tokenizer.word_index)\n",
        "encoded_docs=tokenizer.texts_to_sequences(docs)"
      ],
      "execution_count": null,
      "outputs": []
    },
    {
      "cell_type": "code",
      "metadata": {
        "colab": {
          "base_uri": "https://localhost:8080/"
        },
        "id": "juc4Yp4OLitE",
        "outputId": "f35a7d2d-21ca-4dcd-f810-05cf8d560803"
      },
      "source": [
        "embedding_matrix=np.zeros((vocab_size +1,50))\n",
        "\n",
        "for word,i in tokenizer.word_index.items():\n",
        "  embedding_vector=embeddings_index.get(word)\n",
        "  if embedding_vector is not None:\n",
        "    embedding_matrix[i]=embedding_vector\n",
        "\n",
        "embedding_matrix.shape"
      ],
      "execution_count": null,
      "outputs": [
        {
          "output_type": "execute_result",
          "data": {
            "text/plain": [
              "(8838, 50)"
            ]
          },
          "metadata": {
            "tags": []
          },
          "execution_count": 72
        }
      ]
    },
    {
      "cell_type": "code",
      "metadata": {
        "colab": {
          "base_uri": "https://localhost:8080/"
        },
        "id": "LmOOYyRmIo8E",
        "outputId": "594845bb-f441-495d-97c7-667a5f17158d"
      },
      "source": [
        "print(encoded_docs[0:2])"
      ],
      "execution_count": null,
      "outputs": [
        {
          "output_type": "stream",
          "text": [
            "[[50, 468, 4379, 837, 749, 656, 64, 8, 1314, 89, 120, 350, 1315, 147, 2961, 1316, 67, 58, 4380, 144], [46, 337, 1485, 469, 6, 1915]]\n"
          ],
          "name": "stdout"
        }
      ]
    },
    {
      "cell_type": "code",
      "metadata": {
        "id": "1hvumsc0Io4k"
      },
      "source": [
        "padded_docs=pad_sequences(encoded_docs,maxlen=20,padding='post')"
      ],
      "execution_count": null,
      "outputs": []
    },
    {
      "cell_type": "code",
      "metadata": {
        "colab": {
          "base_uri": "https://localhost:8080/"
        },
        "id": "CXS4vPypID7B",
        "outputId": "acfdeb8e-aaee-4747-8dfd-4fd8771731ab"
      },
      "source": [
        "print(padded_docs[0:2])"
      ],
      "execution_count": null,
      "outputs": [
        {
          "output_type": "stream",
          "text": [
            "[[  50  468 4379  837  749  656   64    8 1314   89  120  350 1315  147\n",
            "  2961 1316   67   58 4380  144]\n",
            " [  46  337 1485  469    6 1915    0    0    0    0    0    0    0    0\n",
            "     0    0    0    0    0    0]]\n"
          ],
          "name": "stdout"
        }
      ]
    },
    {
      "cell_type": "code",
      "metadata": {
        "colab": {
          "base_uri": "https://localhost:8080/"
        },
        "id": "RaTtPNdCID4z",
        "outputId": "84f9edc1-a905-4536-ac48-fe5bcf835f26"
      },
      "source": [
        "model=Sequential()\n",
        "model.add(Embedding(vocab_size +1,50, weights=[embedding_matrix],trainable=False,input_length=20))\n",
        "model.add(Flatten())\n",
        "model.add(Dense(1,activation='sigmoid'))\n",
        "\n",
        "model.summary()"
      ],
      "execution_count": null,
      "outputs": [
        {
          "output_type": "stream",
          "text": [
            "Model: \"sequential_2\"\n",
            "_________________________________________________________________\n",
            "Layer (type)                 Output Shape              Param #   \n",
            "=================================================================\n",
            "embedding_2 (Embedding)      (None, 20, 50)            441900    \n",
            "_________________________________________________________________\n",
            "flatten_2 (Flatten)          (None, 1000)              0         \n",
            "_________________________________________________________________\n",
            "dense_2 (Dense)              (None, 1)                 1001      \n",
            "=================================================================\n",
            "Total params: 442,901\n",
            "Trainable params: 1,001\n",
            "Non-trainable params: 441,900\n",
            "_________________________________________________________________\n"
          ],
          "name": "stdout"
        }
      ]
    },
    {
      "cell_type": "code",
      "metadata": {
        "id": "jvg9HympID2h"
      },
      "source": [
        "model.compile(optimizer='rmsprop',loss='binary_crossentropy',metrics=['accuracy'])"
      ],
      "execution_count": null,
      "outputs": []
    },
    {
      "cell_type": "code",
      "metadata": {
        "id": "tMWM3h45LAUv"
      },
      "source": [
        "X_train,X_test,y_train,y_test=train_test_split(padded_docs,labels,test_size=0.2)\n"
      ],
      "execution_count": null,
      "outputs": []
    },
    {
      "cell_type": "code",
      "metadata": {
        "colab": {
          "base_uri": "https://localhost:8080/"
        },
        "id": "EbgmSAzqLASW",
        "outputId": "227597ec-a6e6-4dcf-f9d4-45c1cda44fd3"
      },
      "source": [
        "model.fit(X_train,y_train,epochs=10,verbose=0)"
      ],
      "execution_count": null,
      "outputs": [
        {
          "output_type": "execute_result",
          "data": {
            "text/plain": [
              "<tensorflow.python.keras.callbacks.History at 0x7fd9f771fbd0>"
            ]
          },
          "metadata": {
            "tags": []
          },
          "execution_count": 83
        }
      ]
    },
    {
      "cell_type": "code",
      "metadata": {
        "colab": {
          "base_uri": "https://localhost:8080/"
        },
        "id": "9T5uYQ25LAQY",
        "outputId": "07765982-10d9-4224-f515-9f852d4307ae"
      },
      "source": [
        "loss,accuracy=model.evaluate(X_test,y_test,verbose=0)\n",
        "\n",
        "print(\"Accuracy: \",accuracy *100)"
      ],
      "execution_count": null,
      "outputs": [
        {
          "output_type": "stream",
          "text": [
            "Accuracy:  96.50224447250366\n"
          ],
          "name": "stdout"
        }
      ]
    }
  ]
}